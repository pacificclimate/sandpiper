{
 "cells": [
  {
   "cell_type": "markdown",
   "id": "marine-capacity",
   "metadata": {},
   "source": [
    "## Test for wps_resolve_rules ProcessErrors\n",
    "The usual test `run_wps_process` takes the default input value when the given value is invalid, and since every input in `wps_resolve_rules` has a default, the test always passes. Running a live instance of the process here returns the expected errors to test against. "
   ]
  },
  {
   "cell_type": "code",
   "execution_count": 1,
   "id": "scheduled-device",
   "metadata": {},
   "outputs": [],
   "source": [
    "from birdy import WPSClient\n",
    "import json\n",
    "import os\n",
    "from wps_tools.testing import get_target_url\n",
    "from pkg_resources import resource_filename"
   ]
  },
  {
   "cell_type": "code",
   "execution_count": 2,
   "id": "pretty-finding",
   "metadata": {},
   "outputs": [],
   "source": [
    "while os.path.basename(os.getcwd()) != \"sandpiper\":\n",
    "    os.chdir('../')"
   ]
  },
  {
   "cell_type": "code",
   "execution_count": 3,
   "id": "ahead-reservation",
   "metadata": {},
   "outputs": [],
   "source": [
    "# NBVAL_IGNORE_OUTPUT\n",
    "url = get_target_url(\"sandpiper\")\n",
    "print(f\"Using sandpiper on {url}\")\n",
    "sandpiper = WPSClient(url)"
   ]
  },
  {
   "cell_type": "code",
   "execution_count": 4,
   "id": "manufactured-impossible",
   "metadata": {},
   "outputs": [],
   "source": [
    "def test_wps_resolve_rules_err(\n",
    "    csv,\n",
    "    connection_string,\n",
    "    geoserver=\"https://docker-dev03.pcic.uvic.ca/geoserver/bc_regions/ows\"\n",
    "):\n",
    "    with open(csv, \"r\") as csv_file:\n",
    "        output = sandpiper.resolve_rules(\n",
    "            csv_content=csv_file.read(),\n",
    "            geoserver=geoserver,\n",
    "            connection_string=connection_string,\n",
    "        )\n",
    "    assert \"Process error\" in output.errors[0].text\n"
   ]
  },
  {
   "cell_type": "code",
   "execution_count": 5,
   "id": "expanded-citation",
   "metadata": {},
   "outputs": [
    {
     "name": "stdout",
     "output_type": "stream",
     "text": [
      " owslib.wps.WPSException : {'code': 'NoApplicableCode', 'locator': 'None', 'text': 'Process error: ArgumentError: Could not parse rfc1738 URL from string bad_connection_string'}\n",
      " owslib.wps.WPSException : {'code': 'NoApplicableCode', 'locator': 'None', 'text': 'Process error: UnboundLocalError: local variable var referenced before assignment'}\n",
      " owslib.wps.WPSException : {'code': 'NoApplicableCode', 'locator': 'None', 'text': 'Process error: MissingSchema: Invalid URL bad_geoserver : No schema supplied. Perhaps you meant http://bad_geoserver?'}\n"
     ]
    }
   ],
   "source": [
    "# NBVAL_IGNORE_OUTPUT\n",
    "try:\n",
    "    with open('credentials.json') as f:\n",
    "        data = json.load(f)\n",
    "        connection_string = data['connection_string']\n",
    "except Exception as e:\n",
    "    print(\"You must run `make credentials` to create the required file\")\n",
    "    raise e\n",
    "\n",
    "if connection_string == 'not_set':\n",
    "    print(\"You must set the `connection_string` param in the `credentials.json` in order to run this demo\")\n",
    "\n",
    "else:\n",
    "    rules = resource_filename(\"tests\", \"data/rules_small.csv\")\n",
    "    bad_rules = resource_filename(\"tests\", \"data/bad_rules.csv\")\n",
    "    \n",
    "    test_wps_resolve_rules_err(rules, \"bad_connection_string\")\n",
    "    test_wps_resolve_rules_err(bad_rules, connection_string)\n",
    "    test_wps_resolve_rules_err(rules, connection_string, geoserver=\"bad_geoserver\")"
   ]
  }
 ],
 "metadata": {
  "kernelspec": {
   "display_name": "Python 3",
   "language": "python",
   "name": "python3"
  },
  "language_info": {
   "codemirror_mode": {
    "name": "ipython",
    "version": 3
   },
   "file_extension": ".py",
   "mimetype": "text/x-python",
   "name": "python",
   "nbconvert_exporter": "python",
   "pygments_lexer": "ipython3",
   "version": "3.8.5"
  }
 },
 "nbformat": 4,
 "nbformat_minor": 5
}
