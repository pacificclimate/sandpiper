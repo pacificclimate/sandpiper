{
 "cells": [
  {
   "cell_type": "markdown",
   "metadata": {},
   "source": [
    "# Sandpiper usage\n",
    "\n",
    "Sandpiper is a WPS server that resolves rules for climatological impacts. To get started, first instatiate the client. Here, the client will try to connect to a local or remote `sandpiper` instance, depending on whether the environment variable `WPS_URL` is defined."
   ]
  },
  {
   "cell_type": "code",
   "execution_count": 13,
   "metadata": {},
   "outputs": [],
   "source": [
    "from birdy import WPSClient\n",
    "from pkg_resources import resource_filename\n",
    "import json\n",
    "import requests\n",
    "import os\n",
    "\n",
    "# Ensure we are in the working directory with access to the data\n",
    "if os.path.basename(os.getcwd()) != \"sandpiper\":\n",
    "    os.chdir('../../../')\n",
    "\n",
    "sandpiper_url = 'https://docker-dev03.pcic.uvic.ca/twitcher/ows/proxy/sandpiper/wps'\n",
    "# url = os.environ.get('WPS_URL', sandpiper_url)\n",
    "sandpiper = WPSClient(sandpiper_url)"
   ]
  },
  {
   "cell_type": "markdown",
   "metadata": {},
   "source": [
    "The list of available processes can be diplayed using the `?` command (ex. `bird?`). Furthermore, help for individual processes can be diplayed using the same command (ex. `bird.process?`)."
   ]
  },
  {
   "cell_type": "code",
   "execution_count": 14,
   "metadata": {},
   "outputs": [
    {
     "data": {
      "text/plain": [
       "\u001b[0;31mType:\u001b[0m            WPSClient\n",
       "\u001b[0;31mString form:\u001b[0m     <birdy.client.base.WPSClient object at 0x7fb8c64a54f0>\n",
       "\u001b[0;31mFile:\u001b[0m            /tmp/sandpiper-venv/lib/python3.8/site-packages/birdy/client/base.py\n",
       "\u001b[0;31mDocstring:\u001b[0m      \n",
       "A Web Processing Service for the Plan2Adapt Rule Engine.\n",
       "\n",
       "Processes\n",
       "---------\n",
       "\n",
       "resolve_rules\n",
       "    Resolve climatological impacts rules\n",
       "\u001b[0;31mClass docstring:\u001b[0m\n",
       "Returns a class where every public method is a WPS process available at\n",
       "the given url.\n",
       "\n",
       "Example:\n",
       "    >>> emu = WPSClient(url='<server url>')\n",
       "    >>> emu.hello('stranger')\n",
       "    'Hello stranger'\n",
       "\u001b[0;31mInit docstring:\u001b[0m \n",
       "Args:\n",
       "    url (str): Link to WPS provider. config (Config): an instance\n",
       "    processes: Specify a subset of processes to bind. Defaults to all\n",
       "        processes.\n",
       "    converters (dict): Correspondence of {mimetype: class} to convert\n",
       "        this mimetype to a python object.\n",
       "    username (str): passed to :class:`owslib.wps.WebProcessingService`\n",
       "    password (str): passed to :class:`owslib.wps.WebProcessingService`\n",
       "    headers (str): passed to :class:`owslib.wps.WebProcessingService`\n",
       "    auth (requests.auth.AuthBase): requests-style auth class to authenticate,\n",
       "        see https://2.python-requests.org/en/master/user/authentication/\n",
       "    verify (bool): passed to :class:`owslib.wps.WebProcessingService`\n",
       "    cert (str): passed to :class:`owslib.wps.WebProcessingService`\n",
       "    verbose (str): passed to :class:`owslib.wps.WebProcessingService`\n",
       "    progress (bool): If True, enable interactive user mode.\n",
       "    version (str): WPS version to use.\n"
      ]
     },
     "metadata": {},
     "output_type": "display_data"
    }
   ],
   "source": [
    "sandpiper?"
   ]
  },
  {
   "cell_type": "code",
   "execution_count": 15,
   "metadata": {},
   "outputs": [
    {
     "data": {
      "text/plain": [
       "\u001b[0;31mSignature:\u001b[0m\n",
       "\u001b[0msandpiper\u001b[0m\u001b[0;34m.\u001b[0m\u001b[0mresolve_rules\u001b[0m\u001b[0;34m(\u001b[0m\u001b[0;34m\u001b[0m\n",
       "\u001b[0;34m\u001b[0m    \u001b[0mcsv\u001b[0m\u001b[0;34m,\u001b[0m\u001b[0;34m\u001b[0m\n",
       "\u001b[0;34m\u001b[0m    \u001b[0mdate_range\u001b[0m\u001b[0;34m=\u001b[0m\u001b[0;34m'2080'\u001b[0m\u001b[0;34m,\u001b[0m\u001b[0;34m\u001b[0m\n",
       "\u001b[0;34m\u001b[0m    \u001b[0mregion\u001b[0m\u001b[0;34m=\u001b[0m\u001b[0;34m'bc'\u001b[0m\u001b[0;34m,\u001b[0m\u001b[0;34m\u001b[0m\n",
       "\u001b[0;34m\u001b[0m    \u001b[0mgeoserver\u001b[0m\u001b[0;34m=\u001b[0m\u001b[0;34m'https://docker-dev03.pcic.uvic.ca/geoserver/bc_regions/ows'\u001b[0m\u001b[0;34m,\u001b[0m\u001b[0;34m\u001b[0m\n",
       "\u001b[0;34m\u001b[0m    \u001b[0mconnection_string\u001b[0m\u001b[0;34m=\u001b[0m\u001b[0;34m'postgres://ce_meta_ro@db3.pcic.uvic.ca/ce_meta'\u001b[0m\u001b[0;34m,\u001b[0m\u001b[0;34m\u001b[0m\n",
       "\u001b[0;34m\u001b[0m    \u001b[0mensemble\u001b[0m\u001b[0;34m=\u001b[0m\u001b[0;34m'p2a_rules'\u001b[0m\u001b[0;34m,\u001b[0m\u001b[0;34m\u001b[0m\n",
       "\u001b[0;34m\u001b[0m    \u001b[0mloglevel\u001b[0m\u001b[0;34m=\u001b[0m\u001b[0;34m'INFO'\u001b[0m\u001b[0;34m,\u001b[0m\u001b[0;34m\u001b[0m\n",
       "\u001b[0;34m\u001b[0m\u001b[0;34m)\u001b[0m\u001b[0;34m\u001b[0m\u001b[0;34m\u001b[0m\u001b[0m\n",
       "\u001b[0;31mDocstring:\u001b[0m\n",
       "Resolve climatological impacts rules\n",
       "\n",
       "Parameters\n",
       "----------\n",
       "csv : string\n",
       "    Path to CSV file\n",
       "date_range : {'2020', '2050', '2080'}string\n",
       "    30 year period for data\n",
       "region : {'bc', 'alberni_clayoquot', 'boreal_plains', 'bulkley_nechako', 'capital', 'cariboo', 'central_coast', 'central_kootenay', 'central_okanagan', 'columbia_shuswap', ...}string\n",
       "    Impacted region\n",
       "geoserver : string\n",
       "    Geoserver URL\n",
       "connection_string : string\n",
       "    Database connection string\n",
       "ensemble : string\n",
       "    Ensemble name filter for data files\n",
       "loglevel : {'CRITICAL', 'ERROR', 'WARNING', 'INFO', 'DEBUG', 'NOTSET'}string\n",
       "    Logging level\n",
       "\n",
       "Returns\n",
       "-------\n",
       "json : ComplexData:mimetype:`application/json`\n",
       "    JSON file\n",
       "\u001b[0;31mFile:\u001b[0m      ~/github/pcic/sandpiper/</tmp/sandpiper-venv/lib/python3.8/site-packages/birdy/client/base.py-2>\n",
       "\u001b[0;31mType:\u001b[0m      method\n"
      ]
     },
     "metadata": {},
     "output_type": "display_data"
    }
   ],
   "source": [
    "sandpiper.resolve_rules?"
   ]
  },
  {
   "cell_type": "markdown",
   "metadata": {},
   "source": [
    "Now that we know which process we wish to run, we can use the docstring to ensure we provide the appropriate parameters. Below we use a `credentials.json` file to provide the full connection string to the process."
   ]
  },
  {
   "cell_type": "code",
   "execution_count": 18,
   "metadata": {},
   "outputs": [],
   "source": [
    "try:\n",
    "    with open('credentials.json') as f:\n",
    "        data = json.load(f)\n",
    "        connection_string = data['connection_string']\n",
    "except Exception as e:\n",
    "    print(\"You must run `make credentials` to create the required file\")\n",
    "    raise e\n",
    "\n",
    "if connection_string == 'not_set':\n",
    "    print(\"You must set the `connection_string` param in the `credentials.json` in order to run this demo\")\n",
    "\n",
    "else:\n",
    "    output = sandpiper.resolve_rules(\n",
    "        csv='tests/data/rules_small.csv',\n",
    "        connection_string=connection_string\n",
    "    )"
   ]
  },
  {
   "cell_type": "markdown",
   "metadata": {},
   "source": [
    "Once the process has completed we can extract the results and ensure it is what we expected."
   ]
  },
  {
   "cell_type": "code",
   "execution_count": 25,
   "metadata": {},
   "outputs": [
    {
     "name": "stdout",
     "output_type": "stream",
     "text": [
      "{'rule_snow': True, 'rule_hybrid': True, 'rule_rain': True}\n"
     ]
    }
   ],
   "source": [
    "rules = json.loads(requests.get(output.get()[0]).content.decode('utf-8'))\n",
    "print(rules)"
   ]
  },
  {
   "cell_type": "code",
   "execution_count": 26,
   "metadata": {},
   "outputs": [],
   "source": [
    "expected_rules = {\n",
    "    'rule_snow': True,\n",
    "    'rule_hybrid': True,\n",
    "    'rule_rain': True\n",
    "}\n",
    "\n",
    "assert rules == expected_rules"
   ]
  },
  {
   "cell_type": "code",
   "execution_count": null,
   "metadata": {},
   "outputs": [],
   "source": []
  }
 ],
 "metadata": {
  "kernelspec": {
   "display_name": "Python 3",
   "language": "python",
   "name": "python3"
  },
  "language_info": {
   "codemirror_mode": {
    "name": "ipython",
    "version": 3
   },
   "file_extension": ".py",
   "mimetype": "text/x-python",
   "name": "python",
   "nbconvert_exporter": "python",
   "pygments_lexer": "ipython3",
   "version": "3.8.2"
  }
 },
 "nbformat": 4,
 "nbformat_minor": 4
}
