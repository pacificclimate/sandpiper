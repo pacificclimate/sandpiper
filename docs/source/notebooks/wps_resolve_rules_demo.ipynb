{
 "cells": [
  {
   "cell_type": "markdown",
   "metadata": {},
   "source": [
    "# Sandpiper usage\n",
    "\n",
    "Sandpiper is a WPS server that resolves rules for climatological impacts. To get started, first instatiate the client. Here, the client will try to connect to a remote `sandpiper` instance using the `url` parameter."
   ]
  },
  {
   "cell_type": "code",
   "execution_count": 1,
   "metadata": {},
   "outputs": [],
   "source": [
    "from birdy import WPSClient\n",
    "import json\n",
    "import requests\n",
    "import os\n",
    "from wps_tools.testing import get_target_url\n",
    "from pkg_resources import resource_filename\n",
    "\n",
    "# Ensure we are in the working directory with access to the data\n",
    "while os.path.basename(os.getcwd()) != \"sandpiper\":\n",
    "    os.chdir('../')"
   ]
  },
  {
   "cell_type": "code",
   "execution_count": 2,
   "metadata": {},
   "outputs": [
    {
     "name": "stdout",
     "output_type": "stream",
     "text": [
      "Using sandpiper on https://docker-dev03.pcic.uvic.ca/twitcher/ows/proxy/sandpiper/wps\n"
     ]
    }
   ],
   "source": [
    "# NBVAL_IGNORE_OUTPUT\n",
    "url = get_target_url(\"sandpiper\")\n",
    "print(f\"Using sandpiper on {url}\")"
   ]
  },
  {
   "cell_type": "code",
   "execution_count": 3,
   "metadata": {},
   "outputs": [],
   "source": [
    "sandpiper = WPSClient(url)"
   ]
  },
  {
   "cell_type": "markdown",
   "metadata": {},
   "source": [
    "The list of available processes can be diplayed using the `?` command (ex. `bird?`). Furthermore, help for individual processes can be diplayed using the same command (ex. `bird.process?`)."
   ]
  },
  {
   "cell_type": "code",
   "execution_count": 4,
   "metadata": {},
   "outputs": [
    {
     "data": {
      "text/plain": [
       "\u001b[0;31mSignature:\u001b[0m\n",
       "\u001b[0msandpiper\u001b[0m\u001b[0;34m.\u001b[0m\u001b[0mresolve_rules\u001b[0m\u001b[0;34m(\u001b[0m\u001b[0;34m\u001b[0m\n",
       "\u001b[0;34m\u001b[0m    \u001b[0mcsv_content\u001b[0m\u001b[0;34m,\u001b[0m\u001b[0;34m\u001b[0m\n",
       "\u001b[0;34m\u001b[0m    \u001b[0mdate_range\u001b[0m\u001b[0;34m=\u001b[0m\u001b[0;34m'2080'\u001b[0m\u001b[0;34m,\u001b[0m\u001b[0;34m\u001b[0m\n",
       "\u001b[0;34m\u001b[0m    \u001b[0mregion\u001b[0m\u001b[0;34m=\u001b[0m\u001b[0;34m'bc'\u001b[0m\u001b[0;34m,\u001b[0m\u001b[0;34m\u001b[0m\n",
       "\u001b[0;34m\u001b[0m    \u001b[0mgeoserver\u001b[0m\u001b[0;34m=\u001b[0m\u001b[0;34m'https://docker-dev03.pcic.uvic.ca/geoserver/bc_regions/ows'\u001b[0m\u001b[0;34m,\u001b[0m\u001b[0;34m\u001b[0m\n",
       "\u001b[0;34m\u001b[0m    \u001b[0mconnection_string\u001b[0m\u001b[0;34m=\u001b[0m\u001b[0;34m'postgres://ce_meta_ro@db3.pcic.uvic.ca/ce_meta_12f290b63791'\u001b[0m\u001b[0;34m,\u001b[0m\u001b[0;34m\u001b[0m\n",
       "\u001b[0;34m\u001b[0m    \u001b[0mensemble\u001b[0m\u001b[0;34m=\u001b[0m\u001b[0;34m'p2a_rules'\u001b[0m\u001b[0;34m,\u001b[0m\u001b[0;34m\u001b[0m\n",
       "\u001b[0;34m\u001b[0m    \u001b[0mloglevel\u001b[0m\u001b[0;34m=\u001b[0m\u001b[0;34m'INFO'\u001b[0m\u001b[0;34m,\u001b[0m\u001b[0;34m\u001b[0m\n",
       "\u001b[0;34m\u001b[0m    \u001b[0mthredds\u001b[0m\u001b[0;34m=\u001b[0m\u001b[0;32mTrue\u001b[0m\u001b[0;34m,\u001b[0m\u001b[0;34m\u001b[0m\n",
       "\u001b[0;34m\u001b[0m\u001b[0;34m)\u001b[0m\u001b[0;34m\u001b[0m\u001b[0;34m\u001b[0m\u001b[0m\n",
       "\u001b[0;31mDocstring:\u001b[0m\n",
       "Resolve climatological impacts rules\n",
       "\n",
       "Parameters\n",
       "----------\n",
       "csv_content : string\n",
       "    Contents of the 'rules' CSV file\n",
       "date_range : {'2020', '2050', '2080'}string\n",
       "    30 year period for data\n",
       "region : {'bc', 'alberni_clayoquot', 'boreal_plains', 'bulkley_nechako', 'capital', 'cariboo', 'central_coast', 'central_kootenay', 'central_okanagan', 'columbia_shuswap', ...}string\n",
       "    Impacted region\n",
       "geoserver : string\n",
       "    Geoserver URL\n",
       "connection_string : string\n",
       "    Database connection string\n",
       "ensemble : string\n",
       "    Ensemble name filter for data files\n",
       "thredds : boolean\n",
       "    Data from thredds server. It is not recommended to change from the default (True)\n",
       "loglevel : {'CRITICAL', 'ERROR', 'WARNING', 'INFO', 'DEBUG', 'NOTSET'}string\n",
       "    Logging level\n",
       "\n",
       "Returns\n",
       "-------\n",
       "json : ComplexData:mimetype:`application/json`\n",
       "    JSON file\n",
       "\u001b[0;31mFile:\u001b[0m      ~/github/pcic/sandpiper/</tmp/sandpiper-venv/lib/python3.8/site-packages/birdy/client/base.py-0>\n",
       "\u001b[0;31mType:\u001b[0m      method\n"
      ]
     },
     "metadata": {},
     "output_type": "display_data"
    }
   ],
   "source": [
    "# NBVAL_IGNORE_OUTPUT\n",
    "sandpiper?\n",
    "sandpiper.resolve_rules?"
   ]
  },
  {
   "cell_type": "markdown",
   "metadata": {},
   "source": [
    "Now that we know which process we wish to run, we can use the docstring to ensure we provide the appropriate parameters. Below we use a `credentials.json` file to provide the full connection string to the process."
   ]
  },
  {
   "cell_type": "code",
   "execution_count": 5,
   "metadata": {},
   "outputs": [],
   "source": [
    "try:\n",
    "    with open('credentials.json') as f:\n",
    "        data = json.load(f)\n",
    "        connection_string = data['connection_string']\n",
    "except Exception as e:\n",
    "    print(\"You must run `make credentials` to create the required file\")\n",
    "    raise e\n",
    "\n",
    "if connection_string == 'not_set':\n",
    "    print(\"You must set the `connection_string` param in the `credentials.json` in order to run this demo\")\n",
    "\n",
    "else:\n",
    "    with open(resource_filename('tests', 'data/rules_small.csv'), \"r\") as csv_file:\n",
    "        output = sandpiper.resolve_rules(\n",
    "            csv_content=csv_file.read(),\n",
    "            connection_string=connection_string\n",
    "    )"
   ]
  },
  {
   "cell_type": "markdown",
   "metadata": {},
   "source": [
    "Access the output with json_to_dict() or auto_construct_outputs() from wps_tools.output_handling"
   ]
  },
  {
   "cell_type": "code",
   "execution_count": 6,
   "metadata": {},
   "outputs": [
    {
     "data": {
      "text/plain": [
       "{'rule_snow': True, 'rule_hybrid': True, 'rule_rain': True}"
      ]
     },
     "execution_count": 6,
     "metadata": {},
     "output_type": "execute_result"
    }
   ],
   "source": [
    "# NBVAL_IGNORE_OUTPUT\n",
    "from wps_tools.output_handling import json_to_dict, auto_construct_outputs\n",
    "json_to_dict(output.get()[0])"
   ]
  },
  {
   "cell_type": "code",
   "execution_count": 7,
   "metadata": {},
   "outputs": [
    {
     "data": {
      "text/plain": [
       "[{'rule_snow': True, 'rule_hybrid': True, 'rule_rain': True}]"
      ]
     },
     "execution_count": 7,
     "metadata": {},
     "output_type": "execute_result"
    }
   ],
   "source": [
    "auto_construct_outputs(output.get())"
   ]
  },
  {
   "cell_type": "markdown",
   "metadata": {},
   "source": [
    "Once the process has completed we can extract the results and ensure it is what we expected."
   ]
  },
  {
   "cell_type": "code",
   "execution_count": 6,
   "metadata": {},
   "outputs": [
    {
     "name": "stdout",
     "output_type": "stream",
     "text": [
      "{'rule_snow': True, 'rule_hybrid': True, 'rule_rain': True}\n"
     ]
    }
   ],
   "source": [
    "# NBVAL_IGNORE_OUTPUT\n",
    "rules = json.loads(requests.get(output.get()[0]).content.decode('utf-8'))\n",
    "print(rules)"
   ]
  },
  {
   "cell_type": "code",
   "execution_count": 7,
   "metadata": {},
   "outputs": [],
   "source": [
    "expected_rules = {\n",
    "    'rule_snow': True,\n",
    "    'rule_hybrid': True,\n",
    "    'rule_rain': True\n",
    "}\n",
    "\n",
    "assert rules == expected_rules"
   ]
  }
 ],
 "metadata": {
  "kernelspec": {
   "display_name": "Python 3",
   "language": "python",
   "name": "python3"
  },
  "language_info": {
   "codemirror_mode": {
    "name": "ipython",
    "version": 3
   },
   "file_extension": ".py",
   "mimetype": "text/x-python",
   "name": "python",
   "nbconvert_exporter": "python",
   "pygments_lexer": "ipython3",
   "version": "3.8.5"
  }
 },
 "nbformat": 4,
 "nbformat_minor": 4
}
