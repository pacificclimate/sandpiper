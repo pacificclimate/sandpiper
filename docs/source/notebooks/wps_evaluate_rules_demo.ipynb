{
 "cells": [
  {
   "cell_type": "code",
   "execution_count": 1,
   "metadata": {},
   "outputs": [],
   "source": [
    "from birdy import WPSClient\n",
    "from pkg_resources import resource_filename\n",
    "from tempfile import NamedTemporaryFile\n",
    "import os\n",
    "import json\n",
    "\n",
    "# Ensure we are in the working directory with access to the data\n",
    "if os.path.basename(os.getcwd()) != \"sandpiper\":\n",
    "    os.chdir('../../../')\n",
    "\n",
    "url = 'http://localhost:5003/wps'\n",
    "sandpiper = WPSClient(url)"
   ]
  },
  {
   "cell_type": "code",
   "execution_count": 2,
   "metadata": {},
   "outputs": [
    {
     "data": {
      "text/plain": [
       "\u001b[0;31mSignature:\u001b[0m \u001b[0msandpiper\u001b[0m\u001b[0;34m.\u001b[0m\u001b[0mevaluate_rule\u001b[0m\u001b[0;34m(\u001b[0m\u001b[0mrule\u001b[0m\u001b[0;34m,\u001b[0m \u001b[0mparse_tree\u001b[0m\u001b[0;34m,\u001b[0m \u001b[0mvariables\u001b[0m\u001b[0;34m,\u001b[0m \u001b[0mloglevel\u001b[0m\u001b[0;34m=\u001b[0m\u001b[0;34m'INFO'\u001b[0m\u001b[0;34m)\u001b[0m\u001b[0;34m\u001b[0m\u001b[0;34m\u001b[0m\u001b[0m\n",
       "\u001b[0;31mDocstring:\u001b[0m\n",
       "Evaluate parse trees to determine truth value of a rule\n",
       "\n",
       "Parameters\n",
       "----------\n",
       "rule : string\n",
       "    Rule expression\n",
       "parse_tree : string\n",
       "    File path to dictionary used for rule getter function\n",
       "variables : string\n",
       "    File path to dictionary used for variables\n",
       "loglevel : {'CRITICAL', 'ERROR', 'WARNING', 'INFO', 'DEBUG', 'NOTSET'}string\n",
       "    Logging level\n",
       "\n",
       "Returns\n",
       "-------\n",
       "truth_value : boolean\n",
       "    Truth value of a parse tree\n",
       "\u001b[0;31mFile:\u001b[0m      ~/code/birds/sandpiper/</tmp/sandpiper-venv/lib/python3.8/site-packages/birdy/client/base.py-2>\n",
       "\u001b[0;31mType:\u001b[0m      method\n"
      ]
     },
     "metadata": {},
     "output_type": "display_data"
    }
   ],
   "source": [
    "# NBVAL_IGNORE_OUTPUT\n",
    "sandpiper.evaluate_rule?"
   ]
  },
  {
   "cell_type": "code",
   "execution_count": 5,
   "metadata": {},
   "outputs": [
    {
     "data": {
      "text/plain": [
       "True"
      ]
     },
     "execution_count": 5,
     "metadata": {},
     "output_type": "execute_result"
    }
   ],
   "source": [
    "# Evaluate truth value of expression\n",
    "rule = 'rule_snow'\n",
    "parse_tree = 'docs/source/notebooks/parse_tree.json'\n",
    "variables = 'docs/source/notebooks/collected_variables.json'   \n",
    "output = sandpiper.evaluate_rule(\n",
    "    rule=rule,\n",
    "    parse_tree=parse_tree,\n",
    "    variables=variables\n",
    ")\n",
    "\n",
    "output.get()[0]"
   ]
  },
  {
   "cell_type": "code",
   "execution_count": null,
   "metadata": {},
   "outputs": [],
   "source": [
    "# Test expected output\n",
    "assert output.get()[0]"
   ]
  }
 ],
 "metadata": {
  "kernelspec": {
   "display_name": "Python 3",
   "language": "python",
   "name": "python3"
  },
  "language_info": {
   "codemirror_mode": {
    "name": "ipython",
    "version": 3
   },
   "file_extension": ".py",
   "mimetype": "text/x-python",
   "name": "python",
   "nbconvert_exporter": "python",
   "pygments_lexer": "ipython3",
   "version": "3.8.5"
  }
 },
 "nbformat": 4,
 "nbformat_minor": 4
}
