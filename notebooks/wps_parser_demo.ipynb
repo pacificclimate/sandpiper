{
 "cells": [
  {
   "cell_type": "markdown",
   "metadata": {},
   "source": [
    "## Parser\n",
    "Takes a logical condition and parses it into a parse tree. Returns a tuple:\n",
    "- Parse tree\n",
    "- Variables used in the parse tree\n",
    "- Region"
   ]
  },
  {
   "cell_type": "code",
   "execution_count": 1,
   "metadata": {},
   "outputs": [],
   "source": [
    "from birdy import WPSClient\n",
    "import os\n",
    "from wps_tools.testing import get_target_url"
   ]
  },
  {
   "cell_type": "code",
   "execution_count": 2,
   "metadata": {},
   "outputs": [
    {
     "name": "stdout",
     "output_type": "stream",
     "text": [
      "Using sandpiper on https://docker-dev03.pcic.uvic.ca/twitcher/ows/proxy/sandpiper/wps\n"
     ]
    }
   ],
   "source": [
    "# NBVAL_IGNORE_OUTPUT\n",
    "url = get_target_url(\"sandpiper\")\n",
    "print(f\"Using sandpiper on {url}\")"
   ]
  },
  {
   "cell_type": "code",
   "execution_count": 3,
   "metadata": {},
   "outputs": [],
   "source": [
    "sandpiper = WPSClient(url)"
   ]
  },
  {
   "cell_type": "markdown",
   "metadata": {},
   "source": [
    "The list of available processes can be diplayed using the `?` command (ex. `bird?`). Furthermore, help for individual processes can be diplayed using the same command (ex. `bird.process?`)."
   ]
  },
  {
   "cell_type": "code",
   "execution_count": 4,
   "metadata": {},
   "outputs": [
    {
     "data": {
      "text/plain": [
       "\u001b[0;31mSignature:\u001b[0m \u001b[0msandpiper\u001b[0m\u001b[0;34m.\u001b[0m\u001b[0mparser\u001b[0m\u001b[0;34m(\u001b[0m\u001b[0mconditions\u001b[0m\u001b[0;34m,\u001b[0m \u001b[0mloglevel\u001b[0m\u001b[0;34m=\u001b[0m\u001b[0;34m'INFO'\u001b[0m\u001b[0;34m,\u001b[0m \u001b[0moutput_formats\u001b[0m\u001b[0;34m=\u001b[0m\u001b[0;32mNone\u001b[0m\u001b[0;34m)\u001b[0m\u001b[0;34m\u001b[0m\u001b[0;34m\u001b[0m\u001b[0m\n",
       "\u001b[0;31mDocstring:\u001b[0m\n",
       "Process a condition into a parse tree\n",
       "\n",
       "Parameters\n",
       "----------\n",
       "conditions : string\n",
       "    The conditions used to break down\n",
       "loglevel : {'CRITICAL', 'ERROR', 'WARNING', 'INFO', 'DEBUG', 'NOTSET'}string\n",
       "    Logging level\n",
       "\n",
       "Returns\n",
       "-------\n",
       "parsed_vars : string\n",
       "    Dictionary containing the parse tree, variables, and region variable generated from each condition.\n",
       "\u001b[0;31mFile:\u001b[0m      ~/code/birds/sandpiper/notebooks/</tmp/sandpiper-venv/lib/python3.8/site-packages/birdy/client/base.py-1>\n",
       "\u001b[0;31mType:\u001b[0m      method\n"
      ]
     },
     "metadata": {},
     "output_type": "display_data"
    }
   ],
   "source": [
    "# NBVAL_IGNORE_OUTPUT\n",
    "sandpiper.parser?"
   ]
  },
  {
   "cell_type": "markdown",
   "metadata": {},
   "source": [
    "sandpiper.parser expects the condition as a string."
   ]
  },
  {
   "cell_type": "code",
   "execution_count": 5,
   "metadata": {},
   "outputs": [
    {
     "data": {
      "text/plain": [
       "{'(temp_djf_iamean_s0p_hist <= -6)': {'parse_tree': ('<=',\n",
       "   'temp_djf_iamean_s0p_hist',\n",
       "   -6.0),\n",
       "  'variables': {'temp_djf_iamean_s0p_hist': {'variable': 'temp',\n",
       "    'time_of_year': 'djf',\n",
       "    'temporal': 'iamean',\n",
       "    'spatial': 's0p',\n",
       "    'percentile': 'hist'}},\n",
       "  'region_variable': None},\n",
       " '(temp_djf_iamean_s100p_hist >= 5)': {'parse_tree': ('>=',\n",
       "   'temp_djf_iamean_s100p_hist',\n",
       "   5.0),\n",
       "  'variables': {'temp_djf_iamean_s100p_hist': {'variable': 'temp',\n",
       "    'time_of_year': 'djf',\n",
       "    'temporal': 'iamean',\n",
       "    'spatial': 's100p',\n",
       "    'percentile': 'hist'}},\n",
       "  'region_variable': None}}"
      ]
     },
     "execution_count": 5,
     "metadata": {},
     "output_type": "execute_result"
    }
   ],
   "source": [
    "conditions = [\n",
    "    \"(temp_djf_iamean_s0p_hist <= -6)\",\n",
    "    \"(temp_djf_iamean_s100p_hist >= 5)\"\n",
    "]\n",
    "output = sandpiper.parser(conditions=conditions)\n",
    "parser_dict = eval(output.get()[0])\n",
    "parser_dict"
   ]
  },
  {
   "cell_type": "markdown",
   "metadata": {},
   "source": [
    "Now that we've run the process, we check that the output is what we expect."
   ]
  },
  {
   "cell_type": "code",
   "execution_count": 6,
   "metadata": {},
   "outputs": [],
   "source": [
    "for key, value in parser_dict.items():\n",
    "    var_name = key.split()[0].replace(\"(\",\"\")\n",
    "    assert key in conditions\n",
    "    assert var_name in value[\"parse_tree\"]\n",
    "    assert len(value[\"variables\"][var_name]) == 5\n",
    "    assert value[\"region_variable\"] is None"
   ]
  }
 ],
 "metadata": {
  "kernelspec": {
   "display_name": "Python 3",
   "language": "python",
   "name": "python3"
  },
  "language_info": {
   "codemirror_mode": {
    "name": "ipython",
    "version": 3
   },
   "file_extension": ".py",
   "mimetype": "text/x-python",
   "name": "python",
   "nbconvert_exporter": "python",
   "pygments_lexer": "ipython3",
   "version": "3.8.5"
  }
 },
 "nbformat": 4,
 "nbformat_minor": 4
}
