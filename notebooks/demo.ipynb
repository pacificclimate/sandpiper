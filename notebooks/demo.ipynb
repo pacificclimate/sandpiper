{
 "cells": [
  {
   "cell_type": "code",
   "execution_count": 1,
   "metadata": {},
   "outputs": [],
   "source": [
    "from birdy import WPSClient\n",
    "import requests\n",
    "import json\n",
    "from pkg_resources import resource_filename\n",
    "\n",
    "# Setup\n",
    "url = 'http://localhost:5003/wps'\n",
    "sandpiper = WPSClient(url=url)\n",
    "\n",
    "import os \n",
    "if os.path.basename(os.getcwd()) != \"sandpiper\": # Ensure current directory is always 'sandpiper' for 'resource_filename' to work\n",
    "    os.chdir('../')\n",
    "\n",
    "# Run process\n",
    "output = sandpiper.resolve_rules(\n",
    "    csv=resource_filename(\"tests\", \"data/rules_small.csv\")\n",
    ")"
   ]
  },
  {
   "cell_type": "code",
   "execution_count": 2,
   "metadata": {},
   "outputs": [
    {
     "data": {
      "text/plain": [
       "'{\"rule_snow\": true, \"rule_hybrid\": true, \"rule_rain\": true}'"
      ]
     },
     "execution_count": 2,
     "metadata": {},
     "output_type": "execute_result"
    }
   ],
   "source": [
    "# Output\n",
    "req = requests.get(output.get()[0])\n",
    "req.content.decode('utf-8')"
   ]
  },
  {
   "cell_type": "code",
   "execution_count": null,
   "metadata": {},
   "outputs": [],
   "source": []
  }
 ],
 "metadata": {
  "kernelspec": {
   "display_name": "Python 3",
   "language": "python",
   "name": "python3"
  },
  "language_info": {
   "codemirror_mode": {
    "name": "ipython",
    "version": 3
   },
   "file_extension": ".py",
   "mimetype": "text/x-python",
   "name": "python",
   "nbconvert_exporter": "python",
   "pygments_lexer": "ipython3",
   "version": "3.6.9"
  }
 },
 "nbformat": 4,
 "nbformat_minor": 4
}
