{
 "cells": [
  {
   "cell_type": "markdown",
   "id": "fddfff93",
   "metadata": {},
   "source": [
    "## Test for wps_resolve_rules ProcessErrors\n",
    "The usual test `run_wps_process` takes the default input value when the given value is invalid, and since every input in `wps_resolve_rules` has a default, the test always passes. Running a live instance of the process here returns the expected errors to test against. "
   ]
  },
  {
   "cell_type": "code",
   "execution_count": 9,
   "id": "74f92779",
   "metadata": {},
   "outputs": [],
   "source": [
    "from birdy import WPSClient\n",
    "import pytest\n",
    "import json\n",
    "import os\n",
    "from wps_tools.testing import get_target_url\n",
    "from pkg_resources import resource_filename"
   ]
  },
  {
   "cell_type": "code",
   "execution_count": 10,
   "id": "223b4190",
   "metadata": {},
   "outputs": [],
   "source": [
    "while os.path.basename(os.getcwd()) != \"sandpiper\":\n",
    "    os.chdir('../')"
   ]
  },
  {
   "cell_type": "code",
   "execution_count": 11,
   "id": "221e60e0",
   "metadata": {},
   "outputs": [
    {
     "name": "stdout",
     "output_type": "stream",
     "text": [
      "Using sandpiper on https://docker-dev03.pcic.uvic.ca/twitcher/ows/proxy/sandpiper/wps\n"
     ]
    }
   ],
   "source": [
    "# NBVAL_IGNORE_OUTPUT\n",
    "url = get_target_url(\"sandpiper\")\n",
    "print(f\"Using sandpiper on {url}\")\n",
    "sandpiper = WPSClient(url)"
   ]
  },
  {
   "cell_type": "code",
   "execution_count": 12,
   "id": "fc5bc8b6",
   "metadata": {},
   "outputs": [
    {
     "name": "stdout",
     "output_type": "stream",
     "text": [
      " owslib.wps.WPSException : {'code': 'NoApplicableCode', 'locator': 'None', 'text': 'Process error: ArgumentError: Could not parse rfc1738 URL from string bad_connection_string'}\n",
      " owslib.wps.WPSException : {'code': 'NoApplicableCode', 'locator': 'None', 'text': 'Process error: MissingSchema: Invalid URL bad_geoserver: No schema supplied. Perhaps you meant http://bad_geoserver?'}\n"
     ]
    }
   ],
   "source": [
    "# NBVAL_IGNORE_OUTPUT\n",
    "csv = resource_filename(\"tests\", \"data/rules_small.csv\")\n",
    "with open(csv, \"r\") as csv_file:\n",
    "    with pytest.raises(Exception):\n",
    "        sandpiper.resolve_rules(\n",
    "            csv_content=csv_file.read(),\n",
    "            geoserver=\"https://docker-dev03.pcic.uvic.ca/geoserver/bc_regions/ows\",\n",
    "            connection_string=\"bad_connection_string\"\n",
    "        )\n",
    "        output.get()[0]\n",
    "\n",
    "    with pytest.raises(Exception):\n",
    "        output = sandpiper.resolve_rules(\n",
    "            csv_content=csv_file.read(), \n",
    "            geoserver=\"bad_geoserver\",\n",
    "        )\n",
    "        output.get()[0]"
   ]
  },
  {
   "cell_type": "code",
   "execution_count": null,
   "id": "c8687e84",
   "metadata": {},
   "outputs": [],
   "source": []
  }
 ],
 "metadata": {
  "kernelspec": {
   "display_name": "Python 3",
   "language": "python",
   "name": "python3"
  },
  "language_info": {
   "codemirror_mode": {
    "name": "ipython",
    "version": 3
   },
   "file_extension": ".py",
   "mimetype": "text/x-python",
   "name": "python",
   "nbconvert_exporter": "python",
   "pygments_lexer": "ipython3",
   "version": "3.8.5"
  }
 },
 "nbformat": 4,
 "nbformat_minor": 5
}
